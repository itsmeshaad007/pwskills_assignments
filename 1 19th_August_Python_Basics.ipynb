{
 "cells": [
  {
   "cell_type": "markdown",
   "metadata": {},
   "source": [
    "## TOPIC: Python Basics Variable"
   ]
  },
  {
   "cell_type": "markdown",
   "metadata": {},
   "source": [
    "### 19th_August_Python_Basics"
   ]
  },
  {
   "cell_type": "markdown",
   "metadata": {},
   "source": [
    "##### 1. Declare two variables, `x` and `y`, and assign them integer values. Swap the values of these variables without using any temporary variable."
   ]
  },
  {
   "cell_type": "code",
   "execution_count": 9,
   "metadata": {},
   "outputs": [
    {
     "name": "stdout",
     "output_type": "stream",
     "text": [
      "before swap x: 10, y: 20\n",
      "after swap x: 20, y: 10\n"
     ]
    }
   ],
   "source": [
    "# Assigning x and y valaues\n",
    "x, y = 10,20\n",
    "\n",
    "# printing before swapping\n",
    "print(f'before swap x: {x}, y: {y}' )\n",
    "\n",
    "# swapping x and y\n",
    "y, x = x,y\n",
    "\n",
    "# printing before swapping\n",
    "print(f'after swap x: {x}, y: {y}' )"
   ]
  },
  {
   "cell_type": "markdown",
   "metadata": {},
   "source": [
    "##### 2. Create a program that calculates the area of a rectangle. Take the length and width as inputs from the user and store them in variables. Calculate and display the area."
   ]
  },
  {
   "cell_type": "code",
   "execution_count": 10,
   "metadata": {},
   "outputs": [
    {
     "name": "stdout",
     "output_type": "stream",
     "text": [
      "enter the length of a rectangle30\n",
      "enter the width of a rectangle10\n",
      "Area of the rectangle is: 300\n"
     ]
    }
   ],
   "source": [
    "# Input length and width from the user\n",
    "length = int(input('enter the length of a rectangle'))\n",
    "width = int(input('enter the width of a rectangle'))\n",
    "\n",
    "# calculating area of a rectangle\n",
    "area = length * width\n",
    "\n",
    "# printing area of rectangle\n",
    "print(f'Area of the rectangle is: {area}')"
   ]
  },
  {
   "cell_type": "markdown",
   "metadata": {},
   "source": [
    "##### 3. Write a Python program that converts temperatures from Celsius to Fahrenheit. Take the temperature in Celsius as input, store it in a variable, convert it to Fahrenheit, and display the result."
   ]
  },
  {
   "cell_type": "code",
   "execution_count": 18,
   "metadata": {},
   "outputs": [
    {
     "name": "stdout",
     "output_type": "stream",
     "text": [
      "enter the celsius temperature: 10\n",
      "temperature in fehrenheit is: 50.0 degree fehrenheit\n"
     ]
    }
   ],
   "source": [
    "# Input celcius from the user\n",
    "celcius = int(input('enter the celsius temperature: '))\n",
    "\n",
    "# calculating fehernheit using formula\n",
    "fehernheit = (celcius * 9/5) + 32\n",
    "\n",
    "# printing temperature in fehrenheit\n",
    "print(f'temperature in fehrenheit is: {fehernheit} degree fehrenheit')"
   ]
  },
  {
   "cell_type": "markdown",
   "metadata": {},
   "source": [
    "## TOPIC: String Based Questions\n"
   ]
  },
  {
   "cell_type": "markdown",
   "metadata": {},
   "source": [
    "##### 1. Write a Python program that takes a string as input and prints the length of the string.\n"
   ]
  },
  {
   "cell_type": "code",
   "execution_count": 22,
   "metadata": {},
   "outputs": [
    {
     "name": "stdout",
     "output_type": "stream",
     "text": [
      "enter the string: Happiness\n",
      "Length of the string is: 9\n"
     ]
    }
   ],
   "source": [
    "# Input string from the user\n",
    "string = input('enter the string: ')\n",
    "\n",
    "# calculating length of a string using len method\n",
    "length_string = len(string)\n",
    "\n",
    "# printing Length of the string\n",
    "print(f'Length of the string is: {length_string}')"
   ]
  },
  {
   "cell_type": "markdown",
   "metadata": {},
   "source": [
    "##### 2. Create a program that takes a sentence from the user and counts the number of vowels (a, e, i, o, u) in the string."
   ]
  },
  {
   "cell_type": "markdown",
   "metadata": {},
   "source": [
    "###### First method"
   ]
  },
  {
   "cell_type": "code",
   "execution_count": 8,
   "metadata": {},
   "outputs": [
    {
     "name": "stdout",
     "output_type": "stream",
     "text": [
      "enter the sentence: programming is fun\n",
      "count of vovels in the sentence:\" programming is fun \" is 5\n"
     ]
    }
   ],
   "source": [
    "# Input sentence from the user\n",
    "sentence = input('enter the sentence: ')\n",
    "\n",
    "# Counting vovels manually\n",
    "count_a = sentence.count('a')\n",
    "count_e = sentence.count('e')\n",
    "count_i = sentence.count('i')\n",
    "count_o = sentence.count('o')\n",
    "count_u = sentence.count('u')\n",
    "\n",
    "# counting total count of individual vowels count\n",
    "count_total = count_a + count_e + count_i + count_o + count_u\n",
    "\n",
    "# printing count of vowels in the sentence\n",
    "print(f'count of vowels in the sentence:\" {sentence} \" is {count_total}')"
   ]
  },
  {
   "cell_type": "markdown",
   "metadata": {},
   "source": [
    "###### Second method"
   ]
  },
  {
   "cell_type": "code",
   "execution_count": 10,
   "metadata": {},
   "outputs": [
    {
     "name": "stdout",
     "output_type": "stream",
     "text": [
      "enter the sentence: programming is fun\n",
      "count of vovels in the sentence:\" programming is fun \" is 5\n"
     ]
    }
   ],
   "source": [
    "# Input sentence from the user\n",
    "sentence = input('enter the sentence: ')\n",
    "# creating a list of vowels\n",
    "vowels = ['a','e','i','o','u']\n",
    "\n",
    "\n",
    "count_total = 0 # creating a variable count_total and assign 0 in it\n",
    "\n",
    "# Running a for loop to count the individual vowels in the sentence\n",
    "for vow in vowels:\n",
    "    count_total += sentence.count(vow) # saving the count of vowels in count_total variable\n",
    "    \n",
    "# Printing the count of vovels in the sentence\n",
    "print(f'count of vovels in the sentence:\" {sentence} \" is {count_total}')"
   ]
  },
  {
   "cell_type": "markdown",
   "metadata": {},
   "source": [
    "##### 3. Given a string, reverse the order of characters using string slicing and print the reversed string.\n"
   ]
  },
  {
   "cell_type": "code",
   "execution_count": 41,
   "metadata": {},
   "outputs": [
    {
     "name": "stdout",
     "output_type": "stream",
     "text": [
      "reverse order is: gnimmargorp\n"
     ]
    }
   ],
   "source": [
    "# Assigning a string in a variable\n",
    "string = 'programming'\n",
    "# calculating the length of a string\n",
    "length = len(string)\n",
    "\n",
    "# Printing the reverse order of the string using slicing\n",
    "print(f'reverse order is: {string[: :  -1]}')"
   ]
  },
  {
   "cell_type": "markdown",
   "metadata": {},
   "source": [
    "##### 4. Write a program that takes a string as input and checks if it is a palindrome (reads the same forwards and backwards)."
   ]
  },
  {
   "cell_type": "code",
   "execution_count": 37,
   "metadata": {},
   "outputs": [
    {
     "name": "stdout",
     "output_type": "stream",
     "text": [
      "enter the string: Naman\n",
      "Yes\n"
     ]
    }
   ],
   "source": [
    "# Input string from the user\n",
    "string = input('enter the string: ')\n",
    "\n",
    "# creating a condition if the string is equal to reverse of that string then it is a palindrome\n",
    "if string.lower() == string[::-1].lower():\n",
    "    print(\"Yes\")\n",
    "else:\n",
    "    print(\"No\")"
   ]
  },
  {
   "cell_type": "markdown",
   "metadata": {},
   "source": [
    "##### 5. Create a program that takes a string as input and removes all the spaces from it. Print the modified string without spaces."
   ]
  },
  {
   "cell_type": "code",
   "execution_count": 28,
   "metadata": {},
   "outputs": [
    {
     "name": "stdout",
     "output_type": "stream",
     "text": [
      "enter the string: programming is fun\n",
      "string without space: programmingisfun\n"
     ]
    }
   ],
   "source": [
    "# Input string from the user\n",
    "string = input('enter the string: ')\n",
    "\n",
    "# Removing spaces in the sentence above using .replace method\n",
    "string_without_space = string.replace(' ','')\n",
    "\n",
    "# printing the result of string without space\n",
    "print(f'string without space: {string_without_space}')"
   ]
  },
  {
   "cell_type": "code",
   "execution_count": null,
   "metadata": {},
   "outputs": [],
   "source": []
  }
 ],
 "metadata": {
  "kernelspec": {
   "display_name": "Python 3",
   "language": "python",
   "name": "python3"
  },
  "language_info": {
   "codemirror_mode": {
    "name": "ipython",
    "version": 3
   },
   "file_extension": ".py",
   "mimetype": "text/x-python",
   "name": "python",
   "nbconvert_exporter": "python",
   "pygments_lexer": "ipython3",
   "version": "3.7.4"
  }
 },
 "nbformat": 4,
 "nbformat_minor": 2
}
